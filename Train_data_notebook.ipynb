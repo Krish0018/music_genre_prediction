{
 "cells": [
  {
   "cell_type": "code",
   "execution_count": 1,
   "id": "9989e518",
   "metadata": {},
   "outputs": [],
   "source": [
    "#importing important libraries\n",
    "import pandas as pd\n",
    "import numpy as np\n",
    "import matplotlib.pyplot as plt\n",
    "import seaborn as sns\n",
    "sns.set()"
   ]
  },
  {
   "cell_type": "code",
   "execution_count": 2,
   "id": "7619c211",
   "metadata": {},
   "outputs": [],
   "source": [
    "#loading the file as per instructions\n",
    "data = pd.read_csv('train.csv')"
   ]
  },
  {
   "cell_type": "code",
   "execution_count": 61,
   "id": "ed431ff3",
   "metadata": {},
   "outputs": [
    {
     "data": {
      "text/html": [
       "<div>\n",
       "<style scoped>\n",
       "    .dataframe tbody tr th:only-of-type {\n",
       "        vertical-align: middle;\n",
       "    }\n",
       "\n",
       "    .dataframe tbody tr th {\n",
       "        vertical-align: top;\n",
       "    }\n",
       "\n",
       "    .dataframe thead th {\n",
       "        text-align: right;\n",
       "    }\n",
       "</style>\n",
       "<table border=\"1\" class=\"dataframe\">\n",
       "  <thead>\n",
       "    <tr style=\"text-align: right;\">\n",
       "      <th></th>\n",
       "      <th>instance_id</th>\n",
       "      <th>track_name</th>\n",
       "      <th>popularity</th>\n",
       "      <th>acousticness</th>\n",
       "      <th>danceability</th>\n",
       "      <th>duration_ms</th>\n",
       "      <th>energy</th>\n",
       "      <th>instrumentalness</th>\n",
       "      <th>key</th>\n",
       "      <th>liveness</th>\n",
       "      <th>loudness</th>\n",
       "      <th>voice_gender</th>\n",
       "      <th>mode</th>\n",
       "      <th>speechiness</th>\n",
       "      <th>tempo</th>\n",
       "      <th>musician_category</th>\n",
       "      <th>valence</th>\n",
       "      <th>music_genre</th>\n",
       "    </tr>\n",
       "  </thead>\n",
       "  <tbody>\n",
       "    <tr>\n",
       "      <th>0</th>\n",
       "      <td>MSC_83537.0</td>\n",
       "      <td>Estrellitas y Duendes</td>\n",
       "      <td>49.178</td>\n",
       "      <td>0.970522</td>\n",
       "      <td>0.580508</td>\n",
       "      <td>214625.776</td>\n",
       "      <td>0.192107</td>\n",
       "      <td>0.000000</td>\n",
       "      <td>Scale E</td>\n",
       "      <td>0.147134</td>\n",
       "      <td>-14.140</td>\n",
       "      <td>NaN</td>\n",
       "      <td>Major</td>\n",
       "      <td>0.046404</td>\n",
       "      <td>143.78799999999998</td>\n",
       "      <td>Band</td>\n",
       "      <td>0.598965</td>\n",
       "      <td>Jazz</td>\n",
       "    </tr>\n",
       "    <tr>\n",
       "      <th>1</th>\n",
       "      <td>MSC_22044.0</td>\n",
       "      <td>Al Norte</td>\n",
       "      <td>59.827</td>\n",
       "      <td>1.009380</td>\n",
       "      <td>0.687542</td>\n",
       "      <td>216232.195</td>\n",
       "      <td>0.265942</td>\n",
       "      <td>0.000031</td>\n",
       "      <td>Scale A</td>\n",
       "      <td>0.174655</td>\n",
       "      <td>-13.716</td>\n",
       "      <td>Male</td>\n",
       "      <td>?</td>\n",
       "      <td>0.039949</td>\n",
       "      <td>?</td>\n",
       "      <td>Band</td>\n",
       "      <td>0.357194</td>\n",
       "      <td>Jazz</td>\n",
       "    </tr>\n",
       "    <tr>\n",
       "      <th>2</th>\n",
       "      <td>MSC_62017.0</td>\n",
       "      <td>Yeah! (feat. Lil Jon &amp; Ludacris)</td>\n",
       "      <td>89.023</td>\n",
       "      <td>0.020041</td>\n",
       "      <td>0.967948</td>\n",
       "      <td>273314.723</td>\n",
       "      <td>0.857411</td>\n",
       "      <td>0.000000</td>\n",
       "      <td>Scale D</td>\n",
       "      <td>0.042030</td>\n",
       "      <td>-4.995</td>\n",
       "      <td>Female</td>\n",
       "      <td>Major</td>\n",
       "      <td>0.119917</td>\n",
       "      <td>105.01799999999999</td>\n",
       "      <td>Band</td>\n",
       "      <td>0.635525</td>\n",
       "      <td>Rap</td>\n",
       "    </tr>\n",
       "    <tr>\n",
       "      <th>3</th>\n",
       "      <td>MSC_76365.0</td>\n",
       "      <td>Can’t You See</td>\n",
       "      <td>55.762</td>\n",
       "      <td>0.010284</td>\n",
       "      <td>0.616287</td>\n",
       "      <td>189189.605</td>\n",
       "      <td>0.970513</td>\n",
       "      <td>0.000220</td>\n",
       "      <td>Scale D</td>\n",
       "      <td>0.124637</td>\n",
       "      <td>-4.262</td>\n",
       "      <td>Both</td>\n",
       "      <td>Major</td>\n",
       "      <td>0.167493</td>\n",
       "      <td>?</td>\n",
       "      <td>Duet</td>\n",
       "      <td>0.983750</td>\n",
       "      <td>Rock</td>\n",
       "    </tr>\n",
       "    <tr>\n",
       "      <th>4</th>\n",
       "      <td>MSC_71493.0</td>\n",
       "      <td>Sonata III (G Moll), BWV 1029: Adagio</td>\n",
       "      <td>45.095</td>\n",
       "      <td>0.858769</td>\n",
       "      <td>0.280645</td>\n",
       "      <td>410136.987</td>\n",
       "      <td>0.114732</td>\n",
       "      <td>0.002753</td>\n",
       "      <td>Scale F Sharp</td>\n",
       "      <td>0.134782</td>\n",
       "      <td>-26.922</td>\n",
       "      <td>Female</td>\n",
       "      <td>Minor</td>\n",
       "      <td>0.039139</td>\n",
       "      <td>112.18299999999999</td>\n",
       "      <td>Band</td>\n",
       "      <td>0.074412</td>\n",
       "      <td>Classical</td>\n",
       "    </tr>\n",
       "  </tbody>\n",
       "</table>\n",
       "</div>"
      ],
      "text/plain": [
       "   instance_id                             track_name  popularity  \\\n",
       "0  MSC_83537.0                  Estrellitas y Duendes      49.178   \n",
       "1  MSC_22044.0                               Al Norte      59.827   \n",
       "2  MSC_62017.0       Yeah! (feat. Lil Jon & Ludacris)      89.023   \n",
       "3  MSC_76365.0                          Can’t You See      55.762   \n",
       "4  MSC_71493.0  Sonata III (G Moll), BWV 1029: Adagio      45.095   \n",
       "\n",
       "   acousticness  danceability  duration_ms    energy  instrumentalness  \\\n",
       "0      0.970522      0.580508   214625.776  0.192107          0.000000   \n",
       "1      1.009380      0.687542   216232.195  0.265942          0.000031   \n",
       "2      0.020041      0.967948   273314.723  0.857411          0.000000   \n",
       "3      0.010284      0.616287   189189.605  0.970513          0.000220   \n",
       "4      0.858769      0.280645   410136.987  0.114732          0.002753   \n",
       "\n",
       "             key  liveness  loudness voice_gender   mode  speechiness  \\\n",
       "0        Scale E  0.147134   -14.140          NaN  Major     0.046404   \n",
       "1        Scale A  0.174655   -13.716         Male      ?     0.039949   \n",
       "2        Scale D  0.042030    -4.995       Female  Major     0.119917   \n",
       "3        Scale D  0.124637    -4.262         Both  Major     0.167493   \n",
       "4  Scale F Sharp  0.134782   -26.922       Female  Minor     0.039139   \n",
       "\n",
       "                tempo musician_category   valence music_genre  \n",
       "0  143.78799999999998              Band  0.598965        Jazz  \n",
       "1                   ?              Band  0.357194        Jazz  \n",
       "2  105.01799999999999              Band  0.635525         Rap  \n",
       "3                   ?              Duet  0.983750        Rock  \n",
       "4  112.18299999999999              Band  0.074412   Classical  "
      ]
     },
     "execution_count": 61,
     "metadata": {},
     "output_type": "execute_result"
    }
   ],
   "source": [
    "data.head()"
   ]
  },
  {
   "cell_type": "code",
   "execution_count": 4,
   "id": "a4c4244c",
   "metadata": {},
   "outputs": [],
   "source": [
    "df = data.copy()"
   ]
  },
  {
   "cell_type": "code",
   "execution_count": 5,
   "id": "c4566b67",
   "metadata": {},
   "outputs": [
    {
     "name": "stdout",
     "output_type": "stream",
     "text": [
      "<class 'pandas.core.frame.DataFrame'>\n",
      "RangeIndex: 15681 entries, 0 to 15680\n",
      "Data columns (total 18 columns):\n",
      " #   Column             Non-Null Count  Dtype  \n",
      "---  ------             --------------  -----  \n",
      " 0   instance_id        15681 non-null  object \n",
      " 1   track_name         15681 non-null  object \n",
      " 2   popularity         15039 non-null  float64\n",
      " 3   acousticness       15681 non-null  float64\n",
      " 4   danceability       15125 non-null  float64\n",
      " 5   duration_ms        15587 non-null  float64\n",
      " 6   energy             15587 non-null  float64\n",
      " 7   instrumentalness   15586 non-null  float64\n",
      " 8   key                15681 non-null  object \n",
      " 9   liveness           15681 non-null  float64\n",
      " 10  loudness           15645 non-null  float64\n",
      " 11  voice_gender       14916 non-null  object \n",
      " 12  mode               15646 non-null  object \n",
      " 13  speechiness        15655 non-null  float64\n",
      " 14  tempo              15681 non-null  object \n",
      " 15  musician_category  14321 non-null  object \n",
      " 16  valence            15004 non-null  float64\n",
      " 17  music_genre        15681 non-null  object \n",
      "dtypes: float64(10), object(8)\n",
      "memory usage: 2.2+ MB\n"
     ]
    }
   ],
   "source": [
    "df.info()"
   ]
  },
  {
   "cell_type": "code",
   "execution_count": 6,
   "id": "2a67bcf8",
   "metadata": {},
   "outputs": [
    {
     "data": {
      "text/plain": [
       "instance_id             0\n",
       "track_name              0\n",
       "popularity            642\n",
       "acousticness            0\n",
       "danceability          556\n",
       "duration_ms            94\n",
       "energy                 94\n",
       "instrumentalness       95\n",
       "key                     0\n",
       "liveness                0\n",
       "loudness               36\n",
       "voice_gender          765\n",
       "mode                   35\n",
       "speechiness            26\n",
       "tempo                   0\n",
       "musician_category    1360\n",
       "valence               677\n",
       "music_genre             0\n",
       "dtype: int64"
      ]
     },
     "execution_count": 6,
     "metadata": {},
     "output_type": "execute_result"
    }
   ],
   "source": [
    "#Let's check the null value\n",
    "df.isna().sum()"
   ]
  },
  {
   "cell_type": "code",
   "execution_count": 7,
   "id": "314596b3",
   "metadata": {},
   "outputs": [
    {
     "data": {
      "text/plain": [
       "instance_id             0\n",
       "track_name              0\n",
       "popularity              0\n",
       "acousticness            0\n",
       "danceability            0\n",
       "duration_ms             0\n",
       "energy                  0\n",
       "instrumentalness        0\n",
       "key                     0\n",
       "liveness                0\n",
       "loudness                0\n",
       "voice_gender          765\n",
       "mode                   35\n",
       "speechiness             0\n",
       "tempo                   0\n",
       "musician_category    1360\n",
       "valence                 0\n",
       "music_genre             0\n",
       "dtype: int64"
      ]
     },
     "execution_count": 7,
     "metadata": {},
     "output_type": "execute_result"
    }
   ],
   "source": [
    "# fill all the Nan value with mean wherever wee can\n",
    "df = df.fillna(df.mean())\n",
    "\n",
    "df.isna().sum()"
   ]
  },
  {
   "cell_type": "code",
   "execution_count": 8,
   "id": "0c45ec83",
   "metadata": {},
   "outputs": [],
   "source": [
    "#As mode column has '?' so we will solve it late and we will first fill other 2 columns.\n",
    "df['voice_gender'].fillna(df['voice_gender'].mode()[0], inplace=True)\n",
    "df['musician_category'].fillna(df['musician_category'].mode()[0], inplace=True)"
   ]
  },
  {
   "cell_type": "code",
   "execution_count": 9,
   "id": "0855e667",
   "metadata": {},
   "outputs": [],
   "source": [
    "#as we can see mode and temo has the ? so, we will replace it by null\n",
    "df['mode'] = df['mode'].apply(lambda x:np.nan if x == '?' else x)\n",
    "df['tempo'] = df['tempo'].apply(lambda x:np.nan if x == '?' else x)"
   ]
  },
  {
   "cell_type": "code",
   "execution_count": 10,
   "id": "df44b9f7",
   "metadata": {},
   "outputs": [
    {
     "data": {
      "text/plain": [
       "instance_id             0\n",
       "track_name              0\n",
       "popularity              0\n",
       "acousticness            0\n",
       "danceability            0\n",
       "duration_ms             0\n",
       "energy                  0\n",
       "instrumentalness        0\n",
       "key                     0\n",
       "liveness                0\n",
       "loudness                0\n",
       "voice_gender            0\n",
       "mode                 1114\n",
       "speechiness             0\n",
       "tempo                1476\n",
       "musician_category       0\n",
       "valence                 0\n",
       "music_genre             0\n",
       "dtype: int64"
      ]
     },
     "execution_count": 10,
     "metadata": {},
     "output_type": "execute_result"
    }
   ],
   "source": [
    "#let's check again for null values\n",
    "df.isna().sum()"
   ]
  },
  {
   "cell_type": "code",
   "execution_count": 11,
   "id": "b98bc49d",
   "metadata": {},
   "outputs": [
    {
     "data": {
      "text/html": [
       "<div>\n",
       "<style scoped>\n",
       "    .dataframe tbody tr th:only-of-type {\n",
       "        vertical-align: middle;\n",
       "    }\n",
       "\n",
       "    .dataframe tbody tr th {\n",
       "        vertical-align: top;\n",
       "    }\n",
       "\n",
       "    .dataframe thead th {\n",
       "        text-align: right;\n",
       "    }\n",
       "</style>\n",
       "<table border=\"1\" class=\"dataframe\">\n",
       "  <thead>\n",
       "    <tr style=\"text-align: right;\">\n",
       "      <th></th>\n",
       "      <th>instance_id</th>\n",
       "      <th>track_name</th>\n",
       "      <th>popularity</th>\n",
       "      <th>acousticness</th>\n",
       "      <th>danceability</th>\n",
       "      <th>duration_ms</th>\n",
       "      <th>energy</th>\n",
       "      <th>instrumentalness</th>\n",
       "      <th>key</th>\n",
       "      <th>liveness</th>\n",
       "      <th>loudness</th>\n",
       "      <th>voice_gender</th>\n",
       "      <th>mode</th>\n",
       "      <th>speechiness</th>\n",
       "      <th>tempo</th>\n",
       "      <th>musician_category</th>\n",
       "      <th>valence</th>\n",
       "      <th>music_genre</th>\n",
       "    </tr>\n",
       "  </thead>\n",
       "  <tbody>\n",
       "    <tr>\n",
       "      <th>0</th>\n",
       "      <td>MSC_83537.0</td>\n",
       "      <td>Estrellitas y Duendes</td>\n",
       "      <td>49.178</td>\n",
       "      <td>0.970522</td>\n",
       "      <td>0.580508</td>\n",
       "      <td>214625.776</td>\n",
       "      <td>0.192107</td>\n",
       "      <td>0.000000</td>\n",
       "      <td>Scale E</td>\n",
       "      <td>0.147134</td>\n",
       "      <td>-14.140</td>\n",
       "      <td>Female</td>\n",
       "      <td>Major</td>\n",
       "      <td>0.046404</td>\n",
       "      <td>143.78799999999998</td>\n",
       "      <td>Band</td>\n",
       "      <td>0.598965</td>\n",
       "      <td>Jazz</td>\n",
       "    </tr>\n",
       "    <tr>\n",
       "      <th>1</th>\n",
       "      <td>MSC_22044.0</td>\n",
       "      <td>Al Norte</td>\n",
       "      <td>59.827</td>\n",
       "      <td>1.009380</td>\n",
       "      <td>0.687542</td>\n",
       "      <td>216232.195</td>\n",
       "      <td>0.265942</td>\n",
       "      <td>0.000031</td>\n",
       "      <td>Scale A</td>\n",
       "      <td>0.174655</td>\n",
       "      <td>-13.716</td>\n",
       "      <td>Male</td>\n",
       "      <td>NaN</td>\n",
       "      <td>0.039949</td>\n",
       "      <td>NaN</td>\n",
       "      <td>Band</td>\n",
       "      <td>0.357194</td>\n",
       "      <td>Jazz</td>\n",
       "    </tr>\n",
       "    <tr>\n",
       "      <th>2</th>\n",
       "      <td>MSC_62017.0</td>\n",
       "      <td>Yeah! (feat. Lil Jon &amp; Ludacris)</td>\n",
       "      <td>89.023</td>\n",
       "      <td>0.020041</td>\n",
       "      <td>0.967948</td>\n",
       "      <td>273314.723</td>\n",
       "      <td>0.857411</td>\n",
       "      <td>0.000000</td>\n",
       "      <td>Scale D</td>\n",
       "      <td>0.042030</td>\n",
       "      <td>-4.995</td>\n",
       "      <td>Female</td>\n",
       "      <td>Major</td>\n",
       "      <td>0.119917</td>\n",
       "      <td>105.01799999999999</td>\n",
       "      <td>Band</td>\n",
       "      <td>0.635525</td>\n",
       "      <td>Rap</td>\n",
       "    </tr>\n",
       "    <tr>\n",
       "      <th>3</th>\n",
       "      <td>MSC_76365.0</td>\n",
       "      <td>Can’t You See</td>\n",
       "      <td>55.762</td>\n",
       "      <td>0.010284</td>\n",
       "      <td>0.616287</td>\n",
       "      <td>189189.605</td>\n",
       "      <td>0.970513</td>\n",
       "      <td>0.000220</td>\n",
       "      <td>Scale D</td>\n",
       "      <td>0.124637</td>\n",
       "      <td>-4.262</td>\n",
       "      <td>Both</td>\n",
       "      <td>Major</td>\n",
       "      <td>0.167493</td>\n",
       "      <td>NaN</td>\n",
       "      <td>Duet</td>\n",
       "      <td>0.983750</td>\n",
       "      <td>Rock</td>\n",
       "    </tr>\n",
       "    <tr>\n",
       "      <th>4</th>\n",
       "      <td>MSC_71493.0</td>\n",
       "      <td>Sonata III (G Moll), BWV 1029: Adagio</td>\n",
       "      <td>45.095</td>\n",
       "      <td>0.858769</td>\n",
       "      <td>0.280645</td>\n",
       "      <td>410136.987</td>\n",
       "      <td>0.114732</td>\n",
       "      <td>0.002753</td>\n",
       "      <td>Scale F Sharp</td>\n",
       "      <td>0.134782</td>\n",
       "      <td>-26.922</td>\n",
       "      <td>Female</td>\n",
       "      <td>Minor</td>\n",
       "      <td>0.039139</td>\n",
       "      <td>112.18299999999999</td>\n",
       "      <td>Band</td>\n",
       "      <td>0.074412</td>\n",
       "      <td>Classical</td>\n",
       "    </tr>\n",
       "  </tbody>\n",
       "</table>\n",
       "</div>"
      ],
      "text/plain": [
       "   instance_id                             track_name  popularity  \\\n",
       "0  MSC_83537.0                  Estrellitas y Duendes      49.178   \n",
       "1  MSC_22044.0                               Al Norte      59.827   \n",
       "2  MSC_62017.0       Yeah! (feat. Lil Jon & Ludacris)      89.023   \n",
       "3  MSC_76365.0                          Can’t You See      55.762   \n",
       "4  MSC_71493.0  Sonata III (G Moll), BWV 1029: Adagio      45.095   \n",
       "\n",
       "   acousticness  danceability  duration_ms    energy  instrumentalness  \\\n",
       "0      0.970522      0.580508   214625.776  0.192107          0.000000   \n",
       "1      1.009380      0.687542   216232.195  0.265942          0.000031   \n",
       "2      0.020041      0.967948   273314.723  0.857411          0.000000   \n",
       "3      0.010284      0.616287   189189.605  0.970513          0.000220   \n",
       "4      0.858769      0.280645   410136.987  0.114732          0.002753   \n",
       "\n",
       "             key  liveness  loudness voice_gender   mode  speechiness  \\\n",
       "0        Scale E  0.147134   -14.140       Female  Major     0.046404   \n",
       "1        Scale A  0.174655   -13.716         Male    NaN     0.039949   \n",
       "2        Scale D  0.042030    -4.995       Female  Major     0.119917   \n",
       "3        Scale D  0.124637    -4.262         Both  Major     0.167493   \n",
       "4  Scale F Sharp  0.134782   -26.922       Female  Minor     0.039139   \n",
       "\n",
       "                tempo musician_category   valence music_genre  \n",
       "0  143.78799999999998              Band  0.598965        Jazz  \n",
       "1                 NaN              Band  0.357194        Jazz  \n",
       "2  105.01799999999999              Band  0.635525         Rap  \n",
       "3                 NaN              Duet  0.983750        Rock  \n",
       "4  112.18299999999999              Band  0.074412   Classical  "
      ]
     },
     "execution_count": 11,
     "metadata": {},
     "output_type": "execute_result"
    }
   ],
   "source": [
    "df.head()"
   ]
  },
  {
   "cell_type": "code",
   "execution_count": 12,
   "id": "2943fb67",
   "metadata": {},
   "outputs": [],
   "source": [
    "#from above we found that 'tempo' is object type but it is look like float. So we will have to change its data type\n",
    "df['tempo'] = df['tempo'].astype('float64')"
   ]
  },
  {
   "cell_type": "code",
   "execution_count": 13,
   "id": "1c7a4d78",
   "metadata": {},
   "outputs": [
    {
     "data": {
      "text/plain": [
       "0        143.788\n",
       "1            NaN\n",
       "2        105.018\n",
       "3            NaN\n",
       "4        112.183\n",
       "          ...   \n",
       "15676    123.516\n",
       "15677    129.445\n",
       "15678    123.170\n",
       "15679    116.077\n",
       "15680     94.200\n",
       "Name: tempo, Length: 15681, dtype: float64"
      ]
     },
     "execution_count": 13,
     "metadata": {},
     "output_type": "execute_result"
    }
   ],
   "source": [
    "df['tempo']"
   ]
  },
  {
   "cell_type": "code",
   "execution_count": 14,
   "id": "539a4c3e",
   "metadata": {},
   "outputs": [],
   "source": [
    "#Now let's remove the null values\n",
    "df = df.fillna(df.mean())\n",
    "\n",
    "df['mode'].fillna(df['mode'].mode()[0], inplace=True)"
   ]
  },
  {
   "cell_type": "code",
   "execution_count": 15,
   "id": "aaa2aad4",
   "metadata": {},
   "outputs": [],
   "source": [
    "#Let's plot the pairplot\n",
    "#sns.pairplot(df, hue='music_genre')"
   ]
  },
  {
   "cell_type": "code",
   "execution_count": 16,
   "id": "928bfcf8",
   "metadata": {},
   "outputs": [],
   "source": [
    "#let's check the no. of unique values in data\n",
    "def print_unique_col_values(df):\n",
    "       for column in df:\n",
    "            if df[column].dtypes=='object':\n",
    "                print(f'{column}: {df[column].unique()}') "
   ]
  },
  {
   "cell_type": "code",
   "execution_count": 17,
   "id": "02acc3af",
   "metadata": {},
   "outputs": [
    {
     "name": "stdout",
     "output_type": "stream",
     "text": [
      "instance_id: ['MSC_83537.0' 'MSC_22044.0' 'MSC_62017.0' ... 'MSC_32827.0' 'MSC_89976.0'\n",
      " 'MSC_43297.0']\n",
      "track_name: ['Estrellitas y Duendes' 'Al Norte' 'Yeah! (feat. Lil Jon & Ludacris)' ...\n",
      " \"Moment's Notice\" 'Such Small Scenes' 'Dogs of War']\n",
      "key: ['Scale E' 'Scale A' 'Scale D' 'Scale F Sharp' 'Scale G Sharp'\n",
      " 'Scale C Sharp' 'Scale A Sharp' 'Scale F' 'Scale G' 'Scale B' 'Scale C'\n",
      " 'Scale D Sharp']\n",
      "voice_gender: ['Female' 'Male' 'Both']\n",
      "mode: ['Major' 'Minor']\n",
      "musician_category: ['Band' 'Duet' 'Solo']\n",
      "music_genre: ['Jazz' 'Rap' 'Rock' 'Classical' 'Electronic' 'Country' 'Hip-Hop']\n"
     ]
    }
   ],
   "source": [
    "print_unique_col_values(df)"
   ]
  },
  {
   "cell_type": "markdown",
   "id": "46c584b8",
   "metadata": {},
   "source": [
    "We don't need to use the instance_id. Apart from that if a column has many categories then we will use label encoder else dummy encoding."
   ]
  },
  {
   "cell_type": "code",
   "execution_count": 18,
   "id": "d790290c",
   "metadata": {},
   "outputs": [],
   "source": [
    "from sklearn.preprocessing import LabelEncoder\n",
    "\n",
    "le = LabelEncoder()"
   ]
  },
  {
   "cell_type": "code",
   "execution_count": 19,
   "id": "1f72f88e",
   "metadata": {},
   "outputs": [],
   "source": [
    "df['track_name'] = le.fit_transform(df['track_name'])\n",
    "df['key'] = le.fit_transform(df['key'])"
   ]
  },
  {
   "cell_type": "code",
   "execution_count": 20,
   "id": "9b0b6840",
   "metadata": {},
   "outputs": [],
   "source": [
    "df['music_genre'] = le.fit_transform(df['music_genre'])"
   ]
  },
  {
   "cell_type": "code",
   "execution_count": 21,
   "id": "6fae1511",
   "metadata": {},
   "outputs": [],
   "source": [
    "#for other categorical features, we'll use dummy encoding becuase of less unique values\n",
    "dummy1 = pd.get_dummies(df['voice_gender'],drop_first=True)\n",
    "dummy2 = pd.get_dummies(df['mode'],drop_first=True)\n",
    "dummy3 = pd.get_dummies(df['musician_category'],drop_first=True)"
   ]
  },
  {
   "cell_type": "code",
   "execution_count": 22,
   "id": "7d889398",
   "metadata": {},
   "outputs": [],
   "source": [
    "#Let's concate these dummies to main dataframe\n",
    "df1 = pd.concat([df,dummy1,dummy2,dummy3],axis=1)"
   ]
  },
  {
   "cell_type": "code",
   "execution_count": 23,
   "id": "568066d2",
   "metadata": {},
   "outputs": [],
   "source": [
    "#time to drop the original feature of dummies including id\n",
    "new_data = df1.drop(['instance_id','voice_gender','mode','musician_category'],axis=1)"
   ]
  },
  {
   "cell_type": "code",
   "execution_count": 24,
   "id": "767aaaeb",
   "metadata": {},
   "outputs": [
    {
     "data": {
      "text/html": [
       "<div>\n",
       "<style scoped>\n",
       "    .dataframe tbody tr th:only-of-type {\n",
       "        vertical-align: middle;\n",
       "    }\n",
       "\n",
       "    .dataframe tbody tr th {\n",
       "        vertical-align: top;\n",
       "    }\n",
       "\n",
       "    .dataframe thead th {\n",
       "        text-align: right;\n",
       "    }\n",
       "</style>\n",
       "<table border=\"1\" class=\"dataframe\">\n",
       "  <thead>\n",
       "    <tr style=\"text-align: right;\">\n",
       "      <th></th>\n",
       "      <th>track_name</th>\n",
       "      <th>popularity</th>\n",
       "      <th>acousticness</th>\n",
       "      <th>danceability</th>\n",
       "      <th>duration_ms</th>\n",
       "      <th>energy</th>\n",
       "      <th>instrumentalness</th>\n",
       "      <th>key</th>\n",
       "      <th>liveness</th>\n",
       "      <th>loudness</th>\n",
       "      <th>speechiness</th>\n",
       "      <th>tempo</th>\n",
       "      <th>valence</th>\n",
       "      <th>music_genre</th>\n",
       "      <th>Female</th>\n",
       "      <th>Male</th>\n",
       "      <th>Minor</th>\n",
       "      <th>Duet</th>\n",
       "      <th>Solo</th>\n",
       "    </tr>\n",
       "  </thead>\n",
       "  <tbody>\n",
       "    <tr>\n",
       "      <th>0</th>\n",
       "      <td>3659</td>\n",
       "      <td>49.178</td>\n",
       "      <td>0.970522</td>\n",
       "      <td>0.580508</td>\n",
       "      <td>214625.776</td>\n",
       "      <td>0.192107</td>\n",
       "      <td>0.000000</td>\n",
       "      <td>7</td>\n",
       "      <td>0.147134</td>\n",
       "      <td>-14.140</td>\n",
       "      <td>0.046404</td>\n",
       "      <td>143.788000</td>\n",
       "      <td>0.598965</td>\n",
       "      <td>4</td>\n",
       "      <td>1</td>\n",
       "      <td>0</td>\n",
       "      <td>0</td>\n",
       "      <td>0</td>\n",
       "      <td>0</td>\n",
       "    </tr>\n",
       "    <tr>\n",
       "      <th>1</th>\n",
       "      <td>540</td>\n",
       "      <td>59.827</td>\n",
       "      <td>1.009380</td>\n",
       "      <td>0.687542</td>\n",
       "      <td>216232.195</td>\n",
       "      <td>0.265942</td>\n",
       "      <td>0.000031</td>\n",
       "      <td>0</td>\n",
       "      <td>0.174655</td>\n",
       "      <td>-13.716</td>\n",
       "      <td>0.039949</td>\n",
       "      <td>115.447641</td>\n",
       "      <td>0.357194</td>\n",
       "      <td>4</td>\n",
       "      <td>0</td>\n",
       "      <td>1</td>\n",
       "      <td>0</td>\n",
       "      <td>0</td>\n",
       "      <td>0</td>\n",
       "    </tr>\n",
       "    <tr>\n",
       "      <th>2</th>\n",
       "      <td>14449</td>\n",
       "      <td>89.023</td>\n",
       "      <td>0.020041</td>\n",
       "      <td>0.967948</td>\n",
       "      <td>273314.723</td>\n",
       "      <td>0.857411</td>\n",
       "      <td>0.000000</td>\n",
       "      <td>5</td>\n",
       "      <td>0.042030</td>\n",
       "      <td>-4.995</td>\n",
       "      <td>0.119917</td>\n",
       "      <td>105.018000</td>\n",
       "      <td>0.635525</td>\n",
       "      <td>5</td>\n",
       "      <td>1</td>\n",
       "      <td>0</td>\n",
       "      <td>0</td>\n",
       "      <td>0</td>\n",
       "      <td>0</td>\n",
       "    </tr>\n",
       "    <tr>\n",
       "      <th>3</th>\n",
       "      <td>2022</td>\n",
       "      <td>55.762</td>\n",
       "      <td>0.010284</td>\n",
       "      <td>0.616287</td>\n",
       "      <td>189189.605</td>\n",
       "      <td>0.970513</td>\n",
       "      <td>0.000220</td>\n",
       "      <td>5</td>\n",
       "      <td>0.124637</td>\n",
       "      <td>-4.262</td>\n",
       "      <td>0.167493</td>\n",
       "      <td>115.447641</td>\n",
       "      <td>0.983750</td>\n",
       "      <td>6</td>\n",
       "      <td>0</td>\n",
       "      <td>0</td>\n",
       "      <td>0</td>\n",
       "      <td>1</td>\n",
       "      <td>0</td>\n",
       "    </tr>\n",
       "    <tr>\n",
       "      <th>4</th>\n",
       "      <td>11036</td>\n",
       "      <td>45.095</td>\n",
       "      <td>0.858769</td>\n",
       "      <td>0.280645</td>\n",
       "      <td>410136.987</td>\n",
       "      <td>0.114732</td>\n",
       "      <td>0.002753</td>\n",
       "      <td>9</td>\n",
       "      <td>0.134782</td>\n",
       "      <td>-26.922</td>\n",
       "      <td>0.039139</td>\n",
       "      <td>112.183000</td>\n",
       "      <td>0.074412</td>\n",
       "      <td>0</td>\n",
       "      <td>1</td>\n",
       "      <td>0</td>\n",
       "      <td>1</td>\n",
       "      <td>0</td>\n",
       "      <td>0</td>\n",
       "    </tr>\n",
       "    <tr>\n",
       "      <th>...</th>\n",
       "      <td>...</td>\n",
       "      <td>...</td>\n",
       "      <td>...</td>\n",
       "      <td>...</td>\n",
       "      <td>...</td>\n",
       "      <td>...</td>\n",
       "      <td>...</td>\n",
       "      <td>...</td>\n",
       "      <td>...</td>\n",
       "      <td>...</td>\n",
       "      <td>...</td>\n",
       "      <td>...</td>\n",
       "      <td>...</td>\n",
       "      <td>...</td>\n",
       "      <td>...</td>\n",
       "      <td>...</td>\n",
       "      <td>...</td>\n",
       "      <td>...</td>\n",
       "      <td>...</td>\n",
       "    </tr>\n",
       "    <tr>\n",
       "      <th>15676</th>\n",
       "      <td>5738</td>\n",
       "      <td>0.000</td>\n",
       "      <td>0.866988</td>\n",
       "      <td>0.387476</td>\n",
       "      <td>-1.000</td>\n",
       "      <td>0.196799</td>\n",
       "      <td>0.028725</td>\n",
       "      <td>2</td>\n",
       "      <td>0.248399</td>\n",
       "      <td>-16.331</td>\n",
       "      <td>0.045251</td>\n",
       "      <td>123.516000</td>\n",
       "      <td>0.624518</td>\n",
       "      <td>0</td>\n",
       "      <td>1</td>\n",
       "      <td>0</td>\n",
       "      <td>0</td>\n",
       "      <td>0</td>\n",
       "      <td>0</td>\n",
       "    </tr>\n",
       "    <tr>\n",
       "      <th>15677</th>\n",
       "      <td>8774</td>\n",
       "      <td>40.514</td>\n",
       "      <td>0.883333</td>\n",
       "      <td>0.459917</td>\n",
       "      <td>378128.464</td>\n",
       "      <td>0.349263</td>\n",
       "      <td>0.000519</td>\n",
       "      <td>8</td>\n",
       "      <td>0.681492</td>\n",
       "      <td>-25.087</td>\n",
       "      <td>0.448377</td>\n",
       "      <td>129.445000</td>\n",
       "      <td>0.609022</td>\n",
       "      <td>4</td>\n",
       "      <td>0</td>\n",
       "      <td>0</td>\n",
       "      <td>0</td>\n",
       "      <td>1</td>\n",
       "      <td>0</td>\n",
       "    </tr>\n",
       "    <tr>\n",
       "      <th>15678</th>\n",
       "      <td>7777</td>\n",
       "      <td>35.082</td>\n",
       "      <td>0.905281</td>\n",
       "      <td>0.566619</td>\n",
       "      <td>581799.061</td>\n",
       "      <td>0.543673</td>\n",
       "      <td>0.209238</td>\n",
       "      <td>6</td>\n",
       "      <td>0.416611</td>\n",
       "      <td>-10.246</td>\n",
       "      <td>0.040625</td>\n",
       "      <td>123.170000</td>\n",
       "      <td>0.869294</td>\n",
       "      <td>4</td>\n",
       "      <td>1</td>\n",
       "      <td>0</td>\n",
       "      <td>0</td>\n",
       "      <td>0</td>\n",
       "      <td>0</td>\n",
       "    </tr>\n",
       "    <tr>\n",
       "      <th>15679</th>\n",
       "      <td>11584</td>\n",
       "      <td>59.693</td>\n",
       "      <td>0.113408</td>\n",
       "      <td>0.644554</td>\n",
       "      <td>151226.592</td>\n",
       "      <td>0.912201</td>\n",
       "      <td>0.000089</td>\n",
       "      <td>8</td>\n",
       "      <td>0.166336</td>\n",
       "      <td>-7.257</td>\n",
       "      <td>0.060308</td>\n",
       "      <td>116.077000</td>\n",
       "      <td>0.402700</td>\n",
       "      <td>6</td>\n",
       "      <td>0</td>\n",
       "      <td>0</td>\n",
       "      <td>1</td>\n",
       "      <td>1</td>\n",
       "      <td>0</td>\n",
       "    </tr>\n",
       "    <tr>\n",
       "      <th>15680</th>\n",
       "      <td>3201</td>\n",
       "      <td>56.518</td>\n",
       "      <td>0.847136</td>\n",
       "      <td>0.502160</td>\n",
       "      <td>190735.191</td>\n",
       "      <td>0.470057</td>\n",
       "      <td>0.502878</td>\n",
       "      <td>8</td>\n",
       "      <td>0.143114</td>\n",
       "      <td>-11.043</td>\n",
       "      <td>0.029906</td>\n",
       "      <td>94.200000</td>\n",
       "      <td>0.358777</td>\n",
       "      <td>0</td>\n",
       "      <td>1</td>\n",
       "      <td>0</td>\n",
       "      <td>0</td>\n",
       "      <td>0</td>\n",
       "      <td>1</td>\n",
       "    </tr>\n",
       "  </tbody>\n",
       "</table>\n",
       "<p>15681 rows × 19 columns</p>\n",
       "</div>"
      ],
      "text/plain": [
       "       track_name  popularity  acousticness  danceability  duration_ms  \\\n",
       "0            3659      49.178      0.970522      0.580508   214625.776   \n",
       "1             540      59.827      1.009380      0.687542   216232.195   \n",
       "2           14449      89.023      0.020041      0.967948   273314.723   \n",
       "3            2022      55.762      0.010284      0.616287   189189.605   \n",
       "4           11036      45.095      0.858769      0.280645   410136.987   \n",
       "...           ...         ...           ...           ...          ...   \n",
       "15676        5738       0.000      0.866988      0.387476       -1.000   \n",
       "15677        8774      40.514      0.883333      0.459917   378128.464   \n",
       "15678        7777      35.082      0.905281      0.566619   581799.061   \n",
       "15679       11584      59.693      0.113408      0.644554   151226.592   \n",
       "15680        3201      56.518      0.847136      0.502160   190735.191   \n",
       "\n",
       "         energy  instrumentalness  key  liveness  loudness  speechiness  \\\n",
       "0      0.192107          0.000000    7  0.147134   -14.140     0.046404   \n",
       "1      0.265942          0.000031    0  0.174655   -13.716     0.039949   \n",
       "2      0.857411          0.000000    5  0.042030    -4.995     0.119917   \n",
       "3      0.970513          0.000220    5  0.124637    -4.262     0.167493   \n",
       "4      0.114732          0.002753    9  0.134782   -26.922     0.039139   \n",
       "...         ...               ...  ...       ...       ...          ...   \n",
       "15676  0.196799          0.028725    2  0.248399   -16.331     0.045251   \n",
       "15677  0.349263          0.000519    8  0.681492   -25.087     0.448377   \n",
       "15678  0.543673          0.209238    6  0.416611   -10.246     0.040625   \n",
       "15679  0.912201          0.000089    8  0.166336    -7.257     0.060308   \n",
       "15680  0.470057          0.502878    8  0.143114   -11.043     0.029906   \n",
       "\n",
       "            tempo   valence  music_genre  Female  Male  Minor  Duet  Solo  \n",
       "0      143.788000  0.598965            4       1     0      0     0     0  \n",
       "1      115.447641  0.357194            4       0     1      0     0     0  \n",
       "2      105.018000  0.635525            5       1     0      0     0     0  \n",
       "3      115.447641  0.983750            6       0     0      0     1     0  \n",
       "4      112.183000  0.074412            0       1     0      1     0     0  \n",
       "...           ...       ...          ...     ...   ...    ...   ...   ...  \n",
       "15676  123.516000  0.624518            0       1     0      0     0     0  \n",
       "15677  129.445000  0.609022            4       0     0      0     1     0  \n",
       "15678  123.170000  0.869294            4       1     0      0     0     0  \n",
       "15679  116.077000  0.402700            6       0     0      1     1     0  \n",
       "15680   94.200000  0.358777            0       1     0      0     0     1  \n",
       "\n",
       "[15681 rows x 19 columns]"
      ]
     },
     "execution_count": 24,
     "metadata": {},
     "output_type": "execute_result"
    }
   ],
   "source": [
    "new_data"
   ]
  },
  {
   "cell_type": "code",
   "execution_count": 25,
   "id": "520c9645",
   "metadata": {},
   "outputs": [],
   "source": [
    "#As we can see above duration_ms has -1 value which is not posible, so let's change it with 0\n",
    "new_data['duration_ms'] = new_data['duration_ms'].apply(lambda x:0 if x == -1 else x)"
   ]
  },
  {
   "cell_type": "code",
   "execution_count": 26,
   "id": "9d7fd63c",
   "metadata": {},
   "outputs": [
    {
     "data": {
      "text/plain": [
       "Index(['track_name', 'popularity', 'acousticness', 'danceability',\n",
       "       'duration_ms', 'energy', 'instrumentalness', 'key', 'liveness',\n",
       "       'loudness', 'speechiness', 'tempo', 'valence', 'music_genre', 'Female',\n",
       "       'Male', 'Minor', 'Duet', 'Solo'],\n",
       "      dtype='object')"
      ]
     },
     "execution_count": 26,
     "metadata": {},
     "output_type": "execute_result"
    }
   ],
   "source": [
    "new_data.columns"
   ]
  },
  {
   "cell_type": "code",
   "execution_count": 27,
   "id": "77a87e6a",
   "metadata": {},
   "outputs": [],
   "source": [
    "new_data = new_data[['track_name', 'popularity', 'acousticness', 'danceability',\n",
    "       'duration_ms', 'energy', 'instrumentalness', 'key', 'liveness',\n",
    "       'loudness', 'speechiness', 'tempo', 'valence', 'Female',\n",
    "       'Male', 'Minor', 'Duet', 'Solo', 'music_genre']]"
   ]
  },
  {
   "cell_type": "markdown",
   "id": "e1944bb2",
   "metadata": {},
   "source": [
    "## Train Test Split"
   ]
  },
  {
   "cell_type": "code",
   "execution_count": 28,
   "id": "ccd9f894",
   "metadata": {},
   "outputs": [],
   "source": [
    "X = new_data.drop(['music_genre'], axis=1)\n",
    "y = new_data['music_genre']"
   ]
  },
  {
   "cell_type": "code",
   "execution_count": 29,
   "id": "9de4f583",
   "metadata": {},
   "outputs": [],
   "source": [
    "from sklearn.model_selection import train_test_split"
   ]
  },
  {
   "cell_type": "code",
   "execution_count": 30,
   "id": "e7cf84ea",
   "metadata": {},
   "outputs": [],
   "source": [
    "X_train, X_test, y_train, y_test = train_test_split(X, y, test_size=0.33, stratify=y)"
   ]
  },
  {
   "cell_type": "markdown",
   "id": "ec33e7ae",
   "metadata": {},
   "source": [
    "## Scaling the data"
   ]
  },
  {
   "cell_type": "code",
   "execution_count": 31,
   "id": "90b76511",
   "metadata": {},
   "outputs": [],
   "source": [
    "from sklearn.preprocessing import MinMaxScaler"
   ]
  },
  {
   "cell_type": "code",
   "execution_count": 32,
   "id": "c3e9d6a6",
   "metadata": {},
   "outputs": [],
   "source": [
    "scaler = MinMaxScaler()"
   ]
  },
  {
   "cell_type": "code",
   "execution_count": 33,
   "id": "d84c1c78",
   "metadata": {},
   "outputs": [],
   "source": [
    "X_train = scaler.fit_transform(X_train)\n",
    "X_test = scaler.transform(X_test)"
   ]
  },
  {
   "cell_type": "markdown",
   "id": "abeb100b",
   "metadata": {},
   "source": [
    "## Model creation and prediction"
   ]
  },
  {
   "cell_type": "code",
   "execution_count": 34,
   "id": "2b1c414e",
   "metadata": {},
   "outputs": [],
   "source": [
    "#Let's start with logistic regression\n",
    "from sklearn.linear_model import LogisticRegression"
   ]
  },
  {
   "cell_type": "code",
   "execution_count": 35,
   "id": "13005e3a",
   "metadata": {},
   "outputs": [
    {
     "name": "stderr",
     "output_type": "stream",
     "text": [
      "C:\\Users\\subzz\\anaconda3\\lib\\site-packages\\sklearn\\linear_model\\_logistic.py:763: ConvergenceWarning: lbfgs failed to converge (status=1):\n",
      "STOP: TOTAL NO. of ITERATIONS REACHED LIMIT.\n",
      "\n",
      "Increase the number of iterations (max_iter) or scale the data as shown in:\n",
      "    https://scikit-learn.org/stable/modules/preprocessing.html\n",
      "Please also refer to the documentation for alternative solver options:\n",
      "    https://scikit-learn.org/stable/modules/linear_model.html#logistic-regression\n",
      "  n_iter_i = _check_optimize_result(\n"
     ]
    },
    {
     "data": {
      "text/plain": [
       "LogisticRegression()"
      ]
     },
     "execution_count": 35,
     "metadata": {},
     "output_type": "execute_result"
    }
   ],
   "source": [
    "lr = LogisticRegression()\n",
    "\n",
    "lr.fit(X_train,y_train)"
   ]
  },
  {
   "cell_type": "code",
   "execution_count": 36,
   "id": "8b8dabaa",
   "metadata": {},
   "outputs": [],
   "source": [
    "prediction_lr = lr.predict(X_test)"
   ]
  },
  {
   "cell_type": "code",
   "execution_count": 37,
   "id": "98b984bf",
   "metadata": {},
   "outputs": [],
   "source": [
    "#Lets' check for classification report\n",
    "from sklearn.metrics import confusion_matrix, classification_report"
   ]
  },
  {
   "cell_type": "code",
   "execution_count": 38,
   "id": "44593e66",
   "metadata": {},
   "outputs": [
    {
     "name": "stdout",
     "output_type": "stream",
     "text": [
      "              precision    recall  f1-score   support\n",
      "\n",
      "           0       0.86      0.90      0.88      1317\n",
      "           1       0.62      0.16      0.25       225\n",
      "           2       0.56      0.28      0.37       203\n",
      "           3       0.00      0.00      0.00       151\n",
      "           4       0.66      0.66      0.66       941\n",
      "           5       0.71      0.78      0.74      1058\n",
      "           6       0.70      0.84      0.76      1280\n",
      "\n",
      "    accuracy                           0.73      5175\n",
      "   macro avg       0.59      0.52      0.52      5175\n",
      "weighted avg       0.71      0.73      0.71      5175\n",
      "\n",
      "\n",
      "\n",
      "[[1181    7   13    0   83    4   29]\n",
      " [   6   35    2    0   74    8  100]\n",
      " [   8    3   56    0   92   23   21]\n",
      " [   0    0    0    0    5  127   19]\n",
      " [ 155   10   24    1  620   46   85]\n",
      " [   0    0    2    0   18  827  211]\n",
      " [  16    1    3    0   52  129 1079]]\n"
     ]
    }
   ],
   "source": [
    "print(classification_report(y_test,prediction_lr))\n",
    "print('\\n')\n",
    "print(confusion_matrix(y_test,prediction_lr))"
   ]
  },
  {
   "cell_type": "code",
   "execution_count": 39,
   "id": "162159e0",
   "metadata": {},
   "outputs": [],
   "source": [
    "#Random Forest\n",
    "from sklearn.ensemble import RandomForestClassifier"
   ]
  },
  {
   "cell_type": "code",
   "execution_count": 40,
   "id": "97916a0a",
   "metadata": {},
   "outputs": [],
   "source": [
    "rfc = RandomForestClassifier(n_estimators=500)\n",
    "\n",
    "rfc.fit(X_train, y_train)\n",
    "\n",
    "prediction_rfc = rfc.predict(X_test)"
   ]
  },
  {
   "cell_type": "code",
   "execution_count": 41,
   "id": "d1fe753a",
   "metadata": {},
   "outputs": [
    {
     "name": "stdout",
     "output_type": "stream",
     "text": [
      "              precision    recall  f1-score   support\n",
      "\n",
      "           0       0.92      0.90      0.91      1317\n",
      "           1       0.77      0.36      0.49       225\n",
      "           2       0.70      0.33      0.44       203\n",
      "           3       0.00      0.00      0.00       151\n",
      "           4       0.71      0.75      0.73       941\n",
      "           5       0.74      0.79      0.77      1058\n",
      "           6       0.73      0.87      0.80      1280\n",
      "\n",
      "    accuracy                           0.77      5175\n",
      "   macro avg       0.65      0.57      0.59      5175\n",
      "weighted avg       0.75      0.77      0.76      5175\n",
      "\n",
      "\n",
      "\n",
      "[[1189    4   13    0   92    1   18]\n",
      " [   3   82    1    0   50    6   83]\n",
      " [   9    5   66    0   97    9   17]\n",
      " [   0    1    1    0    2  136   11]\n",
      " [  90   12   11    0  710   31   87]\n",
      " [   1    1    2    8   12  840  194]\n",
      " [   7    2    0    1   37  115 1118]]\n"
     ]
    }
   ],
   "source": [
    "print(classification_report(y_test,prediction_rfc))\n",
    "print('\\n')\n",
    "print(confusion_matrix(y_test,prediction_rfc))"
   ]
  },
  {
   "cell_type": "markdown",
   "id": "98505ed8",
   "metadata": {},
   "source": [
    "From above it's look like our taget dataset is inbalanced, So we have to balance the data while using SMOTE"
   ]
  },
  {
   "cell_type": "code",
   "execution_count": 42,
   "id": "f89cbb83",
   "metadata": {},
   "outputs": [
    {
     "name": "stdout",
     "output_type": "stream",
     "text": [
      "Requirement already satisfied: imbalanced-learn in c:\\users\\subzz\\anaconda3\\lib\\site-packages (0.8.1)\n",
      "Requirement already satisfied: scikit-learn>=0.24 in c:\\users\\subzz\\anaconda3\\lib\\site-packages (from imbalanced-learn) (0.24.1)\n",
      "Requirement already satisfied: scipy>=0.19.1 in c:\\users\\subzz\\anaconda3\\lib\\site-packages (from imbalanced-learn) (1.6.2)\n",
      "Requirement already satisfied: joblib>=0.11 in c:\\users\\subzz\\anaconda3\\lib\\site-packages (from imbalanced-learn) (1.0.1)\n",
      "Requirement already satisfied: numpy>=1.13.3 in c:\\users\\subzz\\anaconda3\\lib\\site-packages (from imbalanced-learn) (1.20.1)\n",
      "Requirement already satisfied: threadpoolctl>=2.0.0 in c:\\users\\subzz\\anaconda3\\lib\\site-packages (from scikit-learn>=0.24->imbalanced-learn) (2.1.0)\n"
     ]
    }
   ],
   "source": [
    "!pip install imbalanced-learn"
   ]
  },
  {
   "cell_type": "code",
   "execution_count": 43,
   "id": "c2d2b9ed",
   "metadata": {},
   "outputs": [],
   "source": [
    "from imblearn.over_sampling import SMOTE\n",
    "from collections import Counter"
   ]
  },
  {
   "cell_type": "code",
   "execution_count": 44,
   "id": "2b24a5a0",
   "metadata": {},
   "outputs": [
    {
     "name": "stdout",
     "output_type": "stream",
     "text": [
      "Class=4, n=3990 (14.286%)\n",
      "Class=5, n=3990 (14.286%)\n",
      "Class=6, n=3990 (14.286%)\n",
      "Class=0, n=3990 (14.286%)\n",
      "Class=2, n=3990 (14.286%)\n",
      "Class=1, n=3990 (14.286%)\n",
      "Class=3, n=3990 (14.286%)\n"
     ]
    },
    {
     "data": {
      "text/plain": [
       "<BarContainer object of 7 artists>"
      ]
     },
     "execution_count": 44,
     "metadata": {},
     "output_type": "execute_result"
    },
    {
     "data": {
      "image/png": "[encoded data removed]",
      "text/plain": [
       "<Figure size 432x288 with 1 Axes>"
      ]
     },
     "metadata": {},
     "output_type": "display_data"
    }
   ],
   "source": [
    "oversample = SMOTE()\n",
    "X, y = oversample.fit_resample(X, y)\n",
    "# summarize distribution\n",
    "counter = Counter(y)\n",
    "for k,v in counter.items():\n",
    "\tper = v / len(y) * 100\n",
    "\tprint('Class=%d, n=%d (%.3f%%)' % (k, v, per))\n",
    "# plot the distribution\n",
    "plt.bar(counter.keys(), counter.values())"
   ]
  },
  {
   "cell_type": "markdown",
   "id": "02ae5c00",
   "metadata": {},
   "source": [
    "Now we will split the new X, y again and then predict"
   ]
  },
  {
   "cell_type": "code",
   "execution_count": 45,
   "id": "cef491e4",
   "metadata": {},
   "outputs": [],
   "source": [
    "X_train, X_test, y_train, y_test = train_test_split(X, y, test_size=0.33, stratify=y)"
   ]
  },
  {
   "cell_type": "code",
   "execution_count": 46,
   "id": "1dd03cde",
   "metadata": {},
   "outputs": [],
   "source": [
    "rfc.fit(X_train, y_train)\n",
    "\n",
    "prediction_rfc = rfc.predict(X_test)"
   ]
  },
  {
   "cell_type": "code",
   "execution_count": 47,
   "id": "1cd7dbf7",
   "metadata": {},
   "outputs": [
    {
     "name": "stdout",
     "output_type": "stream",
     "text": [
      "              precision    recall  f1-score   support\n",
      "\n",
      "           0       0.92      0.90      0.91      1316\n",
      "           1       0.86      0.89      0.88      1317\n",
      "           2       0.87      0.90      0.89      1317\n",
      "           3       0.83      0.91      0.87      1317\n",
      "           4       0.81      0.71      0.76      1317\n",
      "           5       0.77      0.69      0.73      1316\n",
      "           6       0.76      0.81      0.78      1317\n",
      "\n",
      "    accuracy                           0.83      9217\n",
      "   macro avg       0.83      0.83      0.83      9217\n",
      "weighted avg       0.83      0.83      0.83      9217\n",
      "\n",
      "\n",
      "\n",
      "[[1189    7   21    0   85    0   14]\n",
      " [   2 1175    5   10   43   11   71]\n",
      " [   3   26 1189   22   42   10   25]\n",
      " [   0    2    1 1193    3  112    6]\n",
      " [  97   65  131    9  940   21   54]\n",
      " [   0   14    9  197    8  914  174]\n",
      " [   3   70    9   10   44  115 1066]]\n"
     ]
    }
   ],
   "source": [
    "print(classification_report(y_test,prediction_rfc))\n",
    "print('\\n')\n",
    "print(confusion_matrix(y_test,prediction_rfc))"
   ]
  },
  {
   "cell_type": "markdown",
   "id": "6302d25f",
   "metadata": {},
   "source": [
    "It seems like our oversampling method worked. So, Now we will try some more models model too."
   ]
  },
  {
   "cell_type": "code",
   "execution_count": 48,
   "id": "545688b1",
   "metadata": {},
   "outputs": [],
   "source": [
    "import lightgbm as lgb\n",
    "clf = lgb.LGBMClassifier()\n",
    "clf.fit(X_train, y_train)\n",
    "\n",
    "y_test_pred = clf.predict(X_test)"
   ]
  },
  {
   "cell_type": "code",
   "execution_count": 49,
   "id": "5d10c0f6",
   "metadata": {},
   "outputs": [
    {
     "name": "stdout",
     "output_type": "stream",
     "text": [
      "              precision    recall  f1-score   support\n",
      "\n",
      "           0       0.92      0.91      0.91      1316\n",
      "           1       0.86      0.87      0.87      1317\n",
      "           2       0.88      0.89      0.88      1317\n",
      "           3       0.80      0.88      0.84      1317\n",
      "           4       0.78      0.72      0.75      1317\n",
      "           5       0.75      0.67      0.71      1316\n",
      "           6       0.75      0.79      0.77      1317\n",
      "\n",
      "    accuracy                           0.82      9217\n",
      "   macro avg       0.82      0.82      0.82      9217\n",
      "weighted avg       0.82      0.82      0.82      9217\n",
      "\n",
      "\n",
      "\n",
      "[[1195    6   12    0   82    2   19]\n",
      " [   3 1151    6   12   48   14   83]\n",
      " [  10   21 1174   19   62   11   20]\n",
      " [   0    4    6 1160    5  132   10]\n",
      " [  89   55  134    7  950   19   63]\n",
      " [   0   17    3  235   18  882  161]\n",
      " [   5   78    4   11   55  119 1045]]\n"
     ]
    }
   ],
   "source": [
    "print(classification_report(y_test,y_test_pred))\n",
    "print('\\n')\n",
    "print(confusion_matrix(y_test,y_test_pred))"
   ]
  },
  {
   "cell_type": "code",
   "execution_count": 50,
   "id": "6f90085d",
   "metadata": {},
   "outputs": [
    {
     "name": "stdout",
     "output_type": "stream",
     "text": [
      "Requirement already satisfied: catboost in c:\\users\\subzz\\anaconda3\\lib\\site-packages (1.0.3)\n",
      "Requirement already satisfied: pandas>=0.24.0 in c:\\users\\subzz\\anaconda3\\lib\\site-packages (from catboost) (1.2.4)\n",
      "Requirement already satisfied: numpy>=1.16.0 in c:\\users\\subzz\\anaconda3\\lib\\site-packages (from catboost) (1.20.1)\n",
      "Requirement already satisfied: graphviz in c:\\users\\subzz\\anaconda3\\lib\\site-packages (from catboost) (0.18)\n",
      "Requirement already satisfied: six in c:\\users\\subzz\\anaconda3\\lib\\site-packages (from catboost) (1.15.0)\n",
      "Requirement already satisfied: plotly in c:\\users\\subzz\\anaconda3\\lib\\site-packages (from catboost) (5.3.1)\n",
      "Requirement already satisfied: scipy in c:\\users\\subzz\\anaconda3\\lib\\site-packages (from catboost) (1.6.2)\n",
      "Requirement already satisfied: matplotlib in c:\\users\\subzz\\anaconda3\\lib\\site-packages (from catboost) (3.3.4)\n",
      "Requirement already satisfied: python-dateutil>=2.7.3 in c:\\users\\subzz\\anaconda3\\lib\\site-packages (from pandas>=0.24.0->catboost) (2.8.1)\n",
      "Requirement already satisfied: pytz>=2017.3 in c:\\users\\subzz\\anaconda3\\lib\\site-packages (from pandas>=0.24.0->catboost) (2021.1)\n",
      "Requirement already satisfied: kiwisolver>=1.0.1 in c:\\users\\subzz\\anaconda3\\lib\\site-packages (from matplotlib->catboost) (1.3.1)\n",
      "Requirement already satisfied: pyparsing!=2.0.4,!=2.1.2,!=2.1.6,>=2.0.3 in c:\\users\\subzz\\anaconda3\\lib\\site-packages (from matplotlib->catboost) (2.4.7)\n",
      "Requirement already satisfied: pillow>=6.2.0 in c:\\users\\subzz\\anaconda3\\lib\\site-packages (from matplotlib->catboost) (8.2.0)\n",
      "Requirement already satisfied: cycler>=0.10 in c:\\users\\subzz\\anaconda3\\lib\\site-packages (from matplotlib->catboost) (0.10.0)\n",
      "Requirement already satisfied: tenacity>=6.2.0 in c:\\users\\subzz\\anaconda3\\lib\\site-packages (from plotly->catboost) (8.0.1)\n"
     ]
    }
   ],
   "source": [
    "!pip install catboost"
   ]
  },
  {
   "cell_type": "code",
   "execution_count": 51,
   "id": "9b40546c",
   "metadata": {},
   "outputs": [],
   "source": [
    "from catboost import CatBoostClassifier"
   ]
  },
  {
   "cell_type": "code",
   "execution_count": 52,
   "id": "999661c8",
   "metadata": {},
   "outputs": [
    {
     "name": "stdout",
     "output_type": "stream",
     "text": [
      "0:\tlearn: 1.7461942\ttotal: 416ms\tremaining: 41.2s\n",
      "1:\tlearn: 1.6020624\ttotal: 714ms\tremaining: 35s\n",
      "2:\tlearn: 1.4815768\ttotal: 999ms\tremaining: 32.3s\n",
      "3:\tlearn: 1.3891177\ttotal: 1.29s\tremaining: 31s\n",
      "4:\tlearn: 1.3134133\ttotal: 1.57s\tremaining: 29.8s\n",
      "5:\tlearn: 1.2540872\ttotal: 1.86s\tremaining: 29.1s\n",
      "6:\tlearn: 1.1949486\ttotal: 2.14s\tremaining: 28.5s\n",
      "7:\tlearn: 1.1451748\ttotal: 2.43s\tremaining: 28s\n",
      "8:\tlearn: 1.0982697\ttotal: 2.72s\tremaining: 27.5s\n",
      "9:\tlearn: 1.0584179\ttotal: 3.02s\tremaining: 27.2s\n",
      "10:\tlearn: 1.0232391\ttotal: 3.35s\tremaining: 27.1s\n",
      "11:\tlearn: 0.9904193\ttotal: 3.68s\tremaining: 27s\n",
      "12:\tlearn: 0.9624932\ttotal: 4.02s\tremaining: 26.9s\n",
      "13:\tlearn: 0.9366220\ttotal: 4.33s\tremaining: 26.6s\n",
      "14:\tlearn: 0.9135788\ttotal: 4.65s\tremaining: 26.3s\n",
      "15:\tlearn: 0.8934174\ttotal: 4.97s\tremaining: 26.1s\n",
      "16:\tlearn: 0.8697471\ttotal: 5.29s\tremaining: 25.8s\n",
      "17:\tlearn: 0.8503674\ttotal: 5.62s\tremaining: 25.6s\n",
      "18:\tlearn: 0.8321803\ttotal: 5.93s\tremaining: 25.3s\n",
      "19:\tlearn: 0.8137320\ttotal: 6.28s\tremaining: 25.1s\n",
      "20:\tlearn: 0.8000248\ttotal: 6.61s\tremaining: 24.9s\n",
      "21:\tlearn: 0.7836028\ttotal: 6.95s\tremaining: 24.6s\n",
      "22:\tlearn: 0.7701044\ttotal: 7.29s\tremaining: 24.4s\n",
      "23:\tlearn: 0.7543185\ttotal: 7.64s\tremaining: 24.2s\n",
      "24:\tlearn: 0.7425091\ttotal: 7.97s\tremaining: 23.9s\n",
      "25:\tlearn: 0.7311432\ttotal: 8.32s\tremaining: 23.7s\n",
      "26:\tlearn: 0.7206033\ttotal: 8.68s\tremaining: 23.5s\n",
      "27:\tlearn: 0.7106069\ttotal: 9.01s\tremaining: 23.2s\n",
      "28:\tlearn: 0.6996911\ttotal: 9.35s\tremaining: 22.9s\n",
      "29:\tlearn: 0.6906228\ttotal: 9.7s\tremaining: 22.6s\n",
      "30:\tlearn: 0.6823887\ttotal: 10s\tremaining: 22.3s\n",
      "31:\tlearn: 0.6734739\ttotal: 10.4s\tremaining: 22s\n",
      "32:\tlearn: 0.6634341\ttotal: 10.7s\tremaining: 21.7s\n",
      "33:\tlearn: 0.6562550\ttotal: 11s\tremaining: 21.4s\n",
      "34:\tlearn: 0.6487143\ttotal: 11.4s\tremaining: 21.1s\n",
      "35:\tlearn: 0.6419894\ttotal: 11.7s\tremaining: 20.8s\n",
      "36:\tlearn: 0.6355181\ttotal: 12.1s\tremaining: 20.5s\n",
      "37:\tlearn: 0.6271336\ttotal: 12.4s\tremaining: 20.2s\n",
      "38:\tlearn: 0.6213689\ttotal: 12.7s\tremaining: 19.9s\n",
      "39:\tlearn: 0.6155472\ttotal: 13s\tremaining: 19.6s\n",
      "40:\tlearn: 0.6099315\ttotal: 13.4s\tremaining: 19.3s\n",
      "41:\tlearn: 0.6049758\ttotal: 13.7s\tremaining: 18.9s\n",
      "42:\tlearn: 0.5978117\ttotal: 14.1s\tremaining: 18.7s\n",
      "43:\tlearn: 0.5932560\ttotal: 14.4s\tremaining: 18.3s\n",
      "44:\tlearn: 0.5878076\ttotal: 14.7s\tremaining: 18s\n",
      "45:\tlearn: 0.5826243\ttotal: 15.1s\tremaining: 17.7s\n",
      "46:\tlearn: 0.5766279\ttotal: 15.4s\tremaining: 17.4s\n",
      "47:\tlearn: 0.5710670\ttotal: 15.8s\tremaining: 17.1s\n",
      "48:\tlearn: 0.5659167\ttotal: 16.1s\tremaining: 16.8s\n",
      "49:\tlearn: 0.5615714\ttotal: 16.5s\tremaining: 16.5s\n",
      "50:\tlearn: 0.5567256\ttotal: 16.8s\tremaining: 16.1s\n",
      "51:\tlearn: 0.5523834\ttotal: 17.1s\tremaining: 15.8s\n",
      "52:\tlearn: 0.5474876\ttotal: 17.5s\tremaining: 15.5s\n",
      "53:\tlearn: 0.5436390\ttotal: 17.8s\tremaining: 15.2s\n",
      "54:\tlearn: 0.5387398\ttotal: 18.2s\tremaining: 14.9s\n",
      "55:\tlearn: 0.5355194\ttotal: 18.5s\tremaining: 14.6s\n",
      "56:\tlearn: 0.5313522\ttotal: 18.9s\tremaining: 14.2s\n",
      "57:\tlearn: 0.5279671\ttotal: 19.2s\tremaining: 13.9s\n",
      "58:\tlearn: 0.5245168\ttotal: 19.6s\tremaining: 13.6s\n",
      "59:\tlearn: 0.5207293\ttotal: 19.9s\tremaining: 13.3s\n",
      "60:\tlearn: 0.5173298\ttotal: 20.3s\tremaining: 13s\n",
      "61:\tlearn: 0.5142639\ttotal: 20.6s\tremaining: 12.6s\n",
      "62:\tlearn: 0.5106433\ttotal: 21s\tremaining: 12.3s\n",
      "63:\tlearn: 0.5062733\ttotal: 21.3s\tremaining: 12s\n",
      "64:\tlearn: 0.5032675\ttotal: 21.7s\tremaining: 11.7s\n",
      "65:\tlearn: 0.4994085\ttotal: 22s\tremaining: 11.4s\n",
      "66:\tlearn: 0.4951650\ttotal: 22.4s\tremaining: 11s\n",
      "67:\tlearn: 0.4910529\ttotal: 22.8s\tremaining: 10.7s\n",
      "68:\tlearn: 0.4877450\ttotal: 23.1s\tremaining: 10.4s\n",
      "69:\tlearn: 0.4840476\ttotal: 23.5s\tremaining: 10.1s\n",
      "70:\tlearn: 0.4807257\ttotal: 23.8s\tremaining: 9.74s\n",
      "71:\tlearn: 0.4776238\ttotal: 24.2s\tremaining: 9.41s\n",
      "72:\tlearn: 0.4746418\ttotal: 24.6s\tremaining: 9.09s\n",
      "73:\tlearn: 0.4709524\ttotal: 24.9s\tremaining: 8.75s\n",
      "74:\tlearn: 0.4683363\ttotal: 25.2s\tremaining: 8.41s\n",
      "75:\tlearn: 0.4658124\ttotal: 25.6s\tremaining: 8.08s\n",
      "76:\tlearn: 0.4632679\ttotal: 25.9s\tremaining: 7.75s\n",
      "77:\tlearn: 0.4607319\ttotal: 26.3s\tremaining: 7.42s\n",
      "78:\tlearn: 0.4571421\ttotal: 26.7s\tremaining: 7.08s\n",
      "79:\tlearn: 0.4554727\ttotal: 27s\tremaining: 6.75s\n",
      "80:\tlearn: 0.4519276\ttotal: 27.3s\tremaining: 6.41s\n",
      "81:\tlearn: 0.4491911\ttotal: 27.7s\tremaining: 6.08s\n",
      "82:\tlearn: 0.4467574\ttotal: 28s\tremaining: 5.74s\n",
      "83:\tlearn: 0.4446107\ttotal: 28.3s\tremaining: 5.4s\n",
      "84:\tlearn: 0.4419279\ttotal: 28.7s\tremaining: 5.06s\n",
      "85:\tlearn: 0.4387388\ttotal: 29s\tremaining: 4.72s\n",
      "86:\tlearn: 0.4363784\ttotal: 29.4s\tremaining: 4.39s\n",
      "87:\tlearn: 0.4331180\ttotal: 29.7s\tremaining: 4.05s\n",
      "88:\tlearn: 0.4300351\ttotal: 30.1s\tremaining: 3.72s\n",
      "89:\tlearn: 0.4274611\ttotal: 30.4s\tremaining: 3.38s\n",
      "90:\tlearn: 0.4254656\ttotal: 30.8s\tremaining: 3.04s\n",
      "91:\tlearn: 0.4228509\ttotal: 31.2s\tremaining: 2.71s\n",
      "92:\tlearn: 0.4206603\ttotal: 31.5s\tremaining: 2.37s\n",
      "93:\tlearn: 0.4177064\ttotal: 31.9s\tremaining: 2.03s\n",
      "94:\tlearn: 0.4152305\ttotal: 32.2s\tremaining: 1.7s\n",
      "95:\tlearn: 0.4122468\ttotal: 32.6s\tremaining: 1.36s\n",
      "96:\tlearn: 0.4095633\ttotal: 32.9s\tremaining: 1.02s\n",
      "97:\tlearn: 0.4075287\ttotal: 33.3s\tremaining: 679ms\n",
      "98:\tlearn: 0.4053360\ttotal: 33.6s\tremaining: 340ms\n",
      "99:\tlearn: 0.4027361\ttotal: 34.1s\tremaining: 0us\n"
     ]
    }
   ],
   "source": [
    "cat = CatBoostClassifier(iterations=100, depth=10, learning_rate=0.1)\n",
    "\n",
    "cat.fit(X_train,y_train)\n",
    "\n",
    "cat_predict = cat.predict(X_test)"
   ]
  },
  {
   "cell_type": "code",
   "execution_count": 53,
   "id": "b1bcbd59",
   "metadata": {},
   "outputs": [
    {
     "name": "stdout",
     "output_type": "stream",
     "text": [
      "              precision    recall  f1-score   support\n",
      "\n",
      "           0       0.91      0.90      0.90      1316\n",
      "           1       0.84      0.84      0.84      1317\n",
      "           2       0.84      0.86      0.85      1317\n",
      "           3       0.77      0.85      0.81      1317\n",
      "           4       0.76      0.69      0.72      1317\n",
      "           5       0.73      0.65      0.68      1316\n",
      "           6       0.74      0.80      0.77      1317\n",
      "\n",
      "    accuracy                           0.80      9217\n",
      "   macro avg       0.80      0.80      0.80      9217\n",
      "weighted avg       0.80      0.80      0.80      9217\n",
      "\n",
      "\n",
      "\n",
      "[[1179   12   28    0   84    0   13]\n",
      " [   2 1108    5   14   61   21  106]\n",
      " [   5   36 1139   28   73   11   25]\n",
      " [   0    6   11 1117    5  163   15]\n",
      " [ 108   64  154   11  906   17   57]\n",
      " [   0   21   13  257   13  852  160]\n",
      " [   4   78    7   15   45  109 1059]]\n"
     ]
    }
   ],
   "source": [
    "print(classification_report(y_test,cat_predict))\n",
    "print('\\n')\n",
    "print(confusion_matrix(y_test,cat_predict))"
   ]
  },
  {
   "cell_type": "code",
   "execution_count": 54,
   "id": "574919a9",
   "metadata": {},
   "outputs": [],
   "source": [
    "import xgboost as xgb"
   ]
  },
  {
   "cell_type": "code",
   "execution_count": 55,
   "id": "455459f0",
   "metadata": {},
   "outputs": [],
   "source": [
    "xgb_cls = xgb.XGBClassifier(colsample_bytree = 0.3, learning_rate = 0.1,\n",
    "                max_depth = 5, alpha = 10, n_estimators = 150)"
   ]
  },
  {
   "cell_type": "code",
   "execution_count": 56,
   "id": "d4c9e0d1",
   "metadata": {},
   "outputs": [
    {
     "name": "stderr",
     "output_type": "stream",
     "text": [
      "C:\\Users\\subzz\\anaconda3\\lib\\site-packages\\xgboost\\sklearn.py:1224: UserWarning: The use of label encoder in XGBClassifier is deprecated and will be removed in a future release. To remove this warning, do the following: 1) Pass option use_label_encoder=False when constructing XGBClassifier object; and 2) Encode your labels (y) as integers starting with 0, i.e. 0, 1, 2, ..., [num_class - 1].\n",
      "  warnings.warn(label_encoder_deprecation_msg, UserWarning)\n"
     ]
    },
    {
     "name": "stdout",
     "output_type": "stream",
     "text": [
      "[15:01:57] WARNING: C:/Users/Administrator/workspace/xgboost-win64_release_1.5.0/src/learner.cc:1115: Starting in XGBoost 1.3.0, the default evaluation metric used with the objective 'multi:softprob' was changed from 'merror' to 'mlogloss'. Explicitly set eval_metric if you'd like to restore the old behavior.\n"
     ]
    }
   ],
   "source": [
    "xgb_cls.fit(X_train,y_train)\n",
    "\n",
    "xgb_pred = xgb_cls.predict(X_test)"
   ]
  },
  {
   "cell_type": "code",
   "execution_count": 57,
   "id": "08462fca",
   "metadata": {},
   "outputs": [
    {
     "name": "stdout",
     "output_type": "stream",
     "text": [
      "              precision    recall  f1-score   support\n",
      "\n",
      "           0       0.91      0.89      0.90      1316\n",
      "           1       0.82      0.82      0.82      1317\n",
      "           2       0.82      0.83      0.82      1317\n",
      "           3       0.74      0.79      0.77      1317\n",
      "           4       0.73      0.66      0.69      1317\n",
      "           5       0.68      0.64      0.66      1316\n",
      "           6       0.73      0.80      0.76      1317\n",
      "\n",
      "    accuracy                           0.78      9217\n",
      "   macro avg       0.78      0.78      0.77      9217\n",
      "weighted avg       0.78      0.78      0.77      9217\n",
      "\n",
      "\n",
      "\n",
      "[[1175    9   32    0   84    1   15]\n",
      " [   2 1076   11   29   69   14  116]\n",
      " [   7   44 1095   32   99   11   29]\n",
      " [   0   11   12 1040    6  232   16]\n",
      " [ 104   79  177   10  865   20   62]\n",
      " [   0   21    8  271   12  845  159]\n",
      " [   5   79    7   15   47  111 1053]]\n"
     ]
    }
   ],
   "source": [
    "print(classification_report(y_test,xgb_pred))\n",
    "print('\\n')\n",
    "print(confusion_matrix(y_test,xgb_pred))"
   ]
  },
  {
   "cell_type": "markdown",
   "id": "639f3daa",
   "metadata": {},
   "source": [
    "After Comparing all these models. We finalize our model which is random forest"
   ]
  },
  {
   "cell_type": "markdown",
   "id": "8eddcd56",
   "metadata": {},
   "source": [
    "#### Dump the model, so we can use it later for test data"
   ]
  },
  {
   "cell_type": "code",
   "execution_count": 58,
   "id": "29d16513",
   "metadata": {},
   "outputs": [],
   "source": [
    "import pickle"
   ]
  },
  {
   "cell_type": "code",
   "execution_count": 59,
   "id": "cf195b4f",
   "metadata": {},
   "outputs": [],
   "source": [
    "file_name = 'music_genre.sav'\n",
    "pickle.dump(rfc, open(file_name, 'wb'))"
   ]
  }
 ],
 "metadata": {
  "kernelspec": {
   "display_name": "Python 3",
   "language": "python",
   "name": "python3"
  },
  "language_info": {
   "codemirror_mode": {
    "name": "ipython",
    "version": 3
   },
   "file_extension": ".py",
   "mimetype": "text/x-python",
   "name": "python",
   "nbconvert_exporter": "python",
   "pygments_lexer": "ipython3",
   "version": "3.8.8"
  }
 },
 "nbformat": 4,
 "nbformat_minor": 5
}
